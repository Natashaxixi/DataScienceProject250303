{
  "metadata": {
    "kernelspec": {
      "name": "python",
      "display_name": "Python (Pyodide)",
      "language": "python"
    },
    "language_info": {
      "codemirror_mode": {
        "name": "python",
        "version": 3
      },
      "file_extension": ".py",
      "mimetype": "text/x-python",
      "name": "python",
      "nbconvert_exporter": "python",
      "pygments_lexer": "ipython3",
      "version": "3.8"
    }
  },
  "nbformat_minor": 5,
  "nbformat": 4,
  "cells": [
    {
      "id": "392713e3-18b9-42f9-92bc-74e8d75be588",
      "cell_type": "markdown",
      "source": "# Data Science Tools and Techniques",
      "metadata": {}
    },
    {
      "id": "8bb791c1-6d01-436d-98cc-51e1ce830a0a",
      "cell_type": "markdown",
      "source": "## Introduction\nThis project serves as the final assignment for the data science course, showcasing the skills and tools introduced throughout the modules. Here, we will explore data science languages, libraries, tools, and perform simple arithmetic operations using both markdown and code cells.",
      "metadata": {}
    },
    {
      "id": "ffccfa3c-047b-4d54-a6e4-0c3e1826662d",
      "cell_type": "markdown",
      "source": "## Data Science Languages\nThe following languages are widely used in data science for analysis, visualization, and machine learning:\n- Python\n- R\n- SQL\n- Julia\n- Scala",
      "metadata": {}
    },
    {
      "id": "0d2d2d16-cd51-40f4-89ab-ef71bf7dd170",
      "cell_type": "markdown",
      "source": "## Data Science Libraries\nBelow is a list of popular libraries that enhance data science workflows:\n- **Pandas**: Data manipulation and analysis in Python.\n- **NumPy**: Numerical computing with arrays and matrices.\n- **Matplotlib**: Data visualization and plotting.\n- **Scikit-learn**: Machine learning algorithms and tools.\n- **TensorFlow**: Deep learning and neural networks.",
      "metadata": {}
    },
    {
      "id": "8afa4624-8063-4bae-a801-4bc824e1beb5",
      "cell_type": "markdown",
      "source": "## Data Science Tools\n| Tool            | Description                        |\n|-----------------|------------------------------------|\n| Jupyter Notebook| Interactive coding environment    |\n| RStudio         | IDE for R programming             |\n| Apache Spark    | Big data processing framework     |\n| Tableau         | Data visualization software       |\n| GitHub          | Version control and collaboration |",
      "metadata": {}
    },
    {
      "id": "aa385a69-1161-4938-a37d-aa26a1fd5021",
      "cell_type": "markdown",
      "source": "## Arithmetic Expression Examples\nIn the following sections, we will demonstrate basic arithmetic operations such as multiplication and addition, as well as a practical conversion of minutes to hours, using Python code cells.",
      "metadata": {}
    },
    {
      "id": "0962307d-45e6-422a-b6c6-f6ff5c41cb0c",
      "cell_type": "code",
      "source": "# Multiply and add numbers\nresult = (3 * 4) + 5\nprint(\"Result of (3 * 4) + 5 is:\", result)",
      "metadata": {
        "trusted": true
      },
      "outputs": [
        {
          "name": "stdout",
          "output_type": "stream",
          "text": "Result of (3 * 4) + 5 is: 17\n"
        }
      ],
      "execution_count": 5
    },
    {
      "id": "458fc2d9-1f12-4be8-a110-732882f3b51f",
      "cell_type": "code",
      "source": "# Convert minutes to hours\nminutes = 120\nhours = minutes / 60\nprint(f\"{minutes} minutes is equal to {hours} hours\")",
      "metadata": {
        "trusted": true
      },
      "outputs": [
        {
          "name": "stdout",
          "output_type": "stream",
          "text": "120 minutes is equal to 2.0 hours\n"
        }
      ],
      "execution_count": 6
    },
    {
      "id": "41091046-b539-4d92-8d76-f84b541adf00",
      "cell_type": "markdown",
      "source": "## Objectives\nThe main goals of this notebook are:\n- To demonstrate proficiency in creating markdown and code cells in Jupyterlite Notebook.\n- To showcase knowledge of data science languages, libraries, and tools.\n- To perform basic arithmetic operations and conversions using Python.",
      "metadata": {}
    },
    {
      "id": "7217f3a1-c53d-4510-911e-cbef1c017685",
      "cell_type": "markdown",
      "source": "## Author\nThis notebook was created by Natasha Lin.",
      "metadata": {}
    }
  ]
}